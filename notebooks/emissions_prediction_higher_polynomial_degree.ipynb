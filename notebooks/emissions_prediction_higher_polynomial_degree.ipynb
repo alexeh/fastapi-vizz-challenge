{
 "cells": [
  {
   "cell_type": "markdown",
   "source": [
    "# Increase the polynomial degree\n",
    "\n",
    "-- We will test the model with different polynomial degrees and see if we can improve the error"
   ],
   "metadata": {
    "collapsed": false
   }
  },
  {
   "cell_type": "code",
   "execution_count": 1,
   "outputs": [],
   "source": [
    "\n",
    "# Import libraries\n",
    "import pandas as pd\n",
    "\n",
    "# Read the CSV file\n",
    "data = pd.read_csv('./data/emissions.csv')\n",
    "\n",
    "# Drop unnecessary columns\n",
    "data = data.drop(columns=['Sector', 'Parent sector'])\n",
    "\n",
    "# Melt the dataframe to have a long format with 'year' and 'emissions' columns\n",
    "data = data.melt(id_vars=['Country'], var_name='year', value_name='emissions')\n",
    "\n",
    "# Convert the year column to integer\n",
    "data['year'] = data['year'].astype(int)\n"
   ],
   "metadata": {
    "collapsed": false
   }
  },
  {
   "cell_type": "code",
   "execution_count": 2,
   "outputs": [
    {
     "name": "stderr",
     "output_type": "stream",
     "text": [
      "/Users/alex/opt/anaconda3/envs/fastapi-vizz-challenge/lib/python3.10/site-packages/sklearn/preprocessing/_encoders.py:868: FutureWarning: `sparse` was renamed to `sparse_output` in version 1.2 and will be removed in 1.4. `sparse_output` is ignored unless you leave `sparse` to its default value.\n",
      "  warnings.warn(\n"
     ]
    },
    {
     "name": "stdout",
     "output_type": "stream",
     "text": [
      "        Country_ABW  Country_AFG  Country_AGO  Country_AIA  Country_ALB  \\\n",
      "0               1.0          0.0          0.0          0.0          0.0   \n",
      "1               0.0          1.0          0.0          0.0          0.0   \n",
      "2               0.0          0.0          1.0          0.0          0.0   \n",
      "3               0.0          0.0          0.0          1.0          0.0   \n",
      "4               0.0          0.0          0.0          0.0          1.0   \n",
      "...             ...          ...          ...          ...          ...   \n",
      "799915          0.0          0.0          0.0          0.0          0.0   \n",
      "799916          0.0          0.0          0.0          0.0          0.0   \n",
      "799917          0.0          0.0          0.0          0.0          0.0   \n",
      "799918          0.0          0.0          0.0          0.0          0.0   \n",
      "799919          0.0          0.0          0.0          0.0          0.0   \n",
      "\n",
      "        Country_AND  Country_ANT  Country_ARE  Country_ARG  Country_ARM  ...  \\\n",
      "0               0.0          0.0          0.0          0.0          0.0  ...   \n",
      "1               0.0          0.0          0.0          0.0          0.0  ...   \n",
      "2               0.0          0.0          0.0          0.0          0.0  ...   \n",
      "3               0.0          0.0          0.0          0.0          0.0  ...   \n",
      "4               0.0          0.0          0.0          0.0          0.0  ...   \n",
      "...             ...          ...          ...          ...          ...  ...   \n",
      "799915          0.0          0.0          0.0          0.0          0.0  ...   \n",
      "799916          0.0          0.0          0.0          0.0          0.0  ...   \n",
      "799917          0.0          0.0          0.0          0.0          0.0  ...   \n",
      "799918          0.0          0.0          0.0          0.0          0.0  ...   \n",
      "799919          0.0          0.0          0.0          0.0          0.0  ...   \n",
      "\n",
      "        Country_VNM  Country_VUT  Country_WORLD  Country_WSM  Country_YEM  \\\n",
      "0               0.0          0.0            0.0          0.0          0.0   \n",
      "1               0.0          0.0            0.0          0.0          0.0   \n",
      "2               0.0          0.0            0.0          0.0          0.0   \n",
      "3               0.0          0.0            0.0          0.0          0.0   \n",
      "4               0.0          0.0            0.0          0.0          0.0   \n",
      "...             ...          ...            ...          ...          ...   \n",
      "799915          0.0          0.0            0.0          1.0          0.0   \n",
      "799916          0.0          0.0            0.0          0.0          1.0   \n",
      "799917          0.0          0.0            0.0          0.0          0.0   \n",
      "799918          0.0          0.0            0.0          0.0          0.0   \n",
      "799919          0.0          0.0            0.0          0.0          0.0   \n",
      "\n",
      "        Country_ZAF  Country_ZMB  Country_ZWE  year   emissions  \n",
      "0               0.0          0.0          0.0  1850    0.041900  \n",
      "1               0.0          0.0          0.0  1850    0.080300  \n",
      "2               0.0          0.0          0.0  1850   -0.611000  \n",
      "3               0.0          0.0          0.0  1850    0.000164  \n",
      "4               0.0          0.0          0.0  1850    2.110000  \n",
      "...             ...          ...          ...   ...         ...  \n",
      "799915          0.0          0.0          0.0  2014    0.000069  \n",
      "799916          0.0          0.0          0.0  2014    0.000000  \n",
      "799917          1.0          0.0          0.0  2014    1.240000  \n",
      "799918          0.0          1.0          0.0  2014  251.000000  \n",
      "799919          0.0          0.0          1.0  2014   36.000000  \n",
      "\n",
      "[799920 rows x 212 columns]\n"
     ]
    }
   ],
   "source": [
    "# Add One-Hot encoding for Countries\n",
    "\n",
    "from sklearn.preprocessing import OneHotEncoder\n",
    "\n",
    "encoder = OneHotEncoder(sparse=False)\n",
    "encoded_countries = encoder.fit_transform(data[['Country']])\n",
    "encoded_countries_df = pd.DataFrame(encoded_countries, columns=encoder.get_feature_names_out(['Country']))\n",
    "\n",
    "# Combine the encoded countries with the original data\n",
    "data_encoded = pd.concat([encoded_countries_df, data[['year', 'emissions']]], axis=1)\n",
    "\n",
    "print(data_encoded)\n"
   ],
   "metadata": {
    "collapsed": false
   }
  },
  {
   "cell_type": "markdown",
   "source": [
    "I should apply the PolynomialFeatures only to the 'year' column, not the 'emissions' column. The 'emissions' column is the target variable that I want to predict, so you should not transform it with PolynomialFeatures.\n",
    "\n",
    "The reason for applying PolynomialFeatures to the 'year' column is to create higher-degree terms that can help the model capture non-linear relationships between the year and the emissions. The 'year' column is the only numerical feature in your dataset that can be transformed in this way."
   ],
   "metadata": {
    "collapsed": false
   }
  },
  {
   "cell_type": "code",
   "execution_count": 3,
   "outputs": [
    {
     "name": "stdout",
     "output_type": "stream",
     "text": [
      "Processing degree 1\n",
      "Adding polynomial features...\n",
      "Number of features after adding polynomial terms: 211 with degree 1\n",
      "Number of features after scaling: 211\n",
      "Training the model...\n",
      "Model trained!\n",
      "Computing training MSE...\n",
      "Training MSE: 152272.91\n",
      "Computing CV MSE...\n",
      "Time consumed traininging: 35.22189688682556 seconds ---\n",
      "Degree 1 - Train MSE: 152272.91, CV MSE: 153546.72\n"
     ]
    },
    {
     "data": {
      "text/plain": "<Figure size 640x480 with 1 Axes>",
      "image/png": "[encoded data removed]"
     },
     "metadata": {},
     "output_type": "display_data"
    }
   ],
   "source": [
    "import numpy as np\n",
    "from matplotlib import pyplot as plt\n",
    "from sklearn.metrics import mean_squared_error\n",
    "from sklearn.preprocessing import StandardScaler, PolynomialFeatures\n",
    "from sklearn.model_selection import train_test_split\n",
    "from sklearn.linear_model import LinearRegression\n",
    "import time\n",
    "\n",
    "# Split the data into train, cross-validation, and test sets\n",
    "X = data_encoded.drop(columns=['emissions'])\n",
    "y = data_encoded['emissions']\n",
    "# Create the model\n",
    "model = LinearRegression()\n",
    "\n",
    "\n",
    "# Test different polynomial degrees in a loop\n",
    "\n",
    "def train_plot_poly(model, X, y, max_degree=10, test_size=0.2, baseline=None):\n",
    "    # Split the dataset into train and validation sets\n",
    "    X_train, X_cv, y_train, y_cv = train_test_split(X, y, test_size=test_size, random_state=42)\n",
    "\n",
    "    train_mses = []\n",
    "    cv_mses = []\n",
    "    models = []\n",
    "    scalers = []\n",
    "    degrees = range(1, max_degree+1)\n",
    "\n",
    "    # Loop over 10 times. Each adding one more degree of polynomial higher than the last.\n",
    "    for degree in degrees:\n",
    "        print(f\"Processing degree {degree}\")\n",
    "\n",
    "        # check time consumed training:\n",
    "\n",
    "        start_time = time.time()\n",
    "\n",
    "        # Add polynomial features to the training set\n",
    "        print(\"Adding polynomial features...\")\n",
    "        poly = PolynomialFeatures(degree, include_bias=False)\n",
    "        X_train_mapped = poly.fit_transform(X_train)\n",
    "        print(f\"Number of features after adding polynomial terms: {X_train_mapped.shape[1]} with degree {degree}\")\n",
    "\n",
    "        # Scale the training set\n",
    "        scaler_poly = StandardScaler()\n",
    "        X_train_mapped_scaled = scaler_poly.fit_transform(X_train_mapped)\n",
    "        scalers.append(scaler_poly)\n",
    "        print(\"Number of features after scaling: %s\" % X_train_mapped_scaled.shape[1])\n",
    "\n",
    "        # Create and train the model\n",
    "        print(\"Training the model...\")\n",
    "        model.fit(X_train_mapped_scaled, y_train)\n",
    "        models.append(model)\n",
    "        print(\"Model trained!\")\n",
    "\n",
    "        # Compute the training MSE\n",
    "        print(\"Computing training MSE...\")\n",
    "        yhat = model.predict(X_train_mapped_scaled)\n",
    "        train_mse = mean_squared_error(y_train, yhat) / 2\n",
    "        train_mses.append(train_mse)\n",
    "        print(f\"Training MSE: {train_mse:.2f}\")\n",
    "\n",
    "        # Add polynomial features and scale the cross-validation set\n",
    "        X_cv_mapped = poly.transform(X_cv)\n",
    "        X_cv_mapped_scaled = scaler_poly.transform(X_cv_mapped)\n",
    "\n",
    "        # Compute the cross-validation MSE\n",
    "        print(\"Computing CV MSE...\")\n",
    "        yhat = model.predict(X_cv_mapped_scaled)\n",
    "        cv_mse = mean_squared_error(y_cv, yhat) / 2\n",
    "        cv_mses.append(cv_mse)\n",
    "\n",
    "        print(\"Time consumed traininging: %s seconds ---\" % (time.time() - start_time))\n",
    "\n",
    "        print(f\"Degree {degree} - Train MSE: {train_mse:.2f}, CV MSE: {cv_mse:.2f}\")\n",
    "\n",
    "    # Plot the results\n",
    "    plt.plot(degrees, train_mses, marker='o', c='r', label='training MSEs')\n",
    "    plt.plot(degrees, cv_mses, marker='o', c='b', label='CV MSEs')\n",
    "    plt.plot(degrees, np.repeat(baseline, len(degrees)), linestyle='--', label='baseline')\n",
    "    plt.title(\"degree of polynomial vs. train and CV MSEs\")\n",
    "    plt.xticks(degrees)\n",
    "    plt.xlabel(\"degree\")\n",
    "    plt.ylabel(\"MSE\")\n",
    "    plt.legend()\n",
    "    plt.show()\n",
    "\n",
    "\n",
    "train_plot_poly(model, X, y, max_degree=1, test_size=0.2, baseline=None)\n",
    "\n",
    "\n",
    "\n",
    "# The process stuck adding degree 2 polynomial features. I will try to run it again with a smaller dataset.\n"
   ],
   "metadata": {
    "collapsed": false
   }
  },
  {
   "cell_type": "code",
   "execution_count": null,
   "outputs": [],
   "source": [],
   "metadata": {
    "collapsed": false
   }
  }
 ],
 "metadata": {
  "kernelspec": {
   "display_name": "Python 3",
   "language": "python",
   "name": "python3"
  },
  "language_info": {
   "codemirror_mode": {
    "name": "ipython",
    "version": 2
   },
   "file_extension": ".py",
   "mimetype": "text/x-python",
   "name": "python",
   "nbconvert_exporter": "python",
   "pygments_lexer": "ipython2",
   "version": "2.7.6"
  }
 },
 "nbformat": 4,
 "nbformat_minor": 0
}
