{
 "cells": [
  {
   "cell_type": "markdown",
   "source": [
    "# Proof of concept of Emissions Prediction Machine Learning Model\n",
    "The first version will be implemented with scikit-learn\n",
    "\n"
   ],
   "metadata": {
    "collapsed": false
   }
  },
  {
   "cell_type": "code",
   "execution_count": 32,
   "outputs": [
    {
     "name": "stdout",
     "output_type": "stream",
     "text": [
      "     Country      1850      1851      1852      1853      1854      1855  \\\n",
      "0        ABW  0.041900  0.044100  0.046500  0.049000  0.051700  0.054500   \n",
      "1        AFG  0.080300  0.080300  0.080300  0.080300  0.080400  0.080400   \n",
      "2        AGO -0.611000 -0.484000 -0.420000 -0.447000 -0.410000 -0.495000   \n",
      "3        AIA  0.000164  0.000173  0.000182  0.000192  0.000203  0.000214   \n",
      "4        ALB  2.110000  2.110000  2.100000  2.100000  2.100000  2.100000   \n",
      "...      ...       ...       ...       ...       ...       ...       ...   \n",
      "4843     WSM  0.000000  0.000000  0.000000  0.000000  0.000000  0.000000   \n",
      "4844     YEM  0.000000  0.000000  0.000000  0.000000  0.000000  0.000000   \n",
      "4845     ZAF -0.181000 -0.156000 -0.144000 -0.149000 -0.142000 -0.158000   \n",
      "4846     ZMB  0.709000  0.764000  0.791000  0.780000  0.796000  0.759000   \n",
      "4847     ZWE  0.124000  0.133000  0.138000  0.136000  0.139000  0.132000   \n",
      "\n",
      "          1856      1857     1858  ...     2005     2006     2007     2008  \\\n",
      "0     0.057500  0.060600  0.06380  ...    2.550    2.550    2.650    2.570   \n",
      "1     0.080400  0.080400  0.08040  ...    1.880    2.200    2.820    4.770   \n",
      "2    -0.476000 -0.494000 -0.63300  ...  151.000   97.500  117.000  103.000   \n",
      "3     0.000225  0.000238  0.00025  ...    0.128    0.195    0.203    0.203   \n",
      "4     2.100000  2.100000  2.10000  ...    5.310    3.880    3.930    4.370   \n",
      "...        ...       ...      ...  ...      ...      ...      ...      ...   \n",
      "4843  0.000000  0.000000  0.00000  ...   -0.110   -0.541   -0.541   -0.541   \n",
      "4844  0.000000  0.000000  0.00000  ...    0.000    0.000    0.000    0.000   \n",
      "4845 -0.155000 -0.158000 -0.18500  ...   25.300    1.060    0.895    0.766   \n",
      "4846  0.767000  0.760000  0.70000  ...   58.000  287.000  272.000  288.000   \n",
      "4847  0.134000  0.133000  0.12200  ...   10.100   37.600   37.600   37.600   \n",
      "\n",
      "         2009     2010        2011        2012        2013        2014  \n",
      "0       2.580    2.520    2.500000    1.360000    0.935000    1.070000  \n",
      "1       7.340    9.030   12.800000   21.000000   21.900000   25.000000  \n",
      "2     106.000  110.000  132.000000  112.000000  122.000000  112.000000  \n",
      "3       0.199    0.203    0.147000    0.147000    0.139000    0.140000  \n",
      "4       4.350    4.580    5.100000    4.580000    4.690000    4.950000  \n",
      "...       ...      ...         ...         ...         ...         ...  \n",
      "4843   -0.541   -0.541    0.000069    0.000069    0.000069    0.000069  \n",
      "4844    0.000    0.000    0.000000    0.000000    0.000000    0.000000  \n",
      "4845    1.070    1.150    0.955000    0.925000    1.090000    1.240000  \n",
      "4846  252.000  275.000  241.000000  241.000000  260.000000  251.000000  \n",
      "4847   37.600   37.600   36.000000   36.000000   36.000000   36.000000  \n",
      "\n",
      "[4848 rows x 166 columns]\n",
      "       Country      1850  year   emissions\n",
      "0          ABW  0.041900  1851    0.044100\n",
      "1          AFG  0.080300  1851    0.080300\n",
      "2          AGO -0.611000  1851   -0.484000\n",
      "3          AIA  0.000164  1851    0.000173\n",
      "4          ALB  2.110000  1851    2.110000\n",
      "...        ...       ...   ...         ...\n",
      "795067     WSM  0.000000  2014    0.000069\n",
      "795068     YEM  0.000000  2014    0.000000\n",
      "795069     ZAF -0.181000  2014    1.240000\n",
      "795070     ZMB  0.709000  2014  251.000000\n",
      "795071     ZWE  0.124000  2014   36.000000\n",
      "\n",
      "[795072 rows x 4 columns]\n"
     ]
    }
   ],
   "source": [
    "import os\n",
    "# Import libraries\n",
    "import pandas as pd\n",
    "import numpy as np\n",
    "from sklearn.linear_model import LinearRegression\n",
    "\n",
    "\n",
    "# Read the CSV file\n",
    "data = pd.read_csv('./data/emissions.csv')\n",
    "\n",
    "# Drop unnecessary columns\n",
    "data = data.drop(columns=['Sector', 'Parent sector'])\n",
    "\n",
    "print(data)\n",
    "\n",
    "\n",
    "# Melt the dataframe to have a long format with 'year' and 'emissions' columns\n",
    "#TODO: this seems like magic, find out how it works. It just modifies the dataframe getting all columns that represent years and putting them in a single column,\n",
    "#      same for emissions\n",
    "data = data.melt(id_vars=['Country'], var_name='year', value_name='emissions')\n",
    "\n",
    "print(data)\n",
    "#\n",
    "# # Convert the year column to integer\n",
    "# data['year'] = data['year'].astype(int)\n",
    "# # Plot the data with X axis as year and Y axis as emissions, and each row that represents a country is a different color, also add some identifying information\n",
    "# #TODO: investigate how can I add a different color for each country and also some identifying information\n",
    "# data.plot(x='year', y='emissions', kind='scatter', colormap='viridis', title='Emissions by country and year')\n",
    "\n"
   ],
   "metadata": {
    "collapsed": false
   }
  },
  {
   "cell_type": "code",
   "execution_count": null,
   "outputs": [],
   "source": [
    "# Split the data into input features and output, and then into training and test sets.\n",
    "\n",
    "from sklearn.model_selection import train_test_split\n",
    "\n",
    "# Split data into input features and output\n",
    "X = data[['Country', 'year']]\n",
    "y = data['emissions']\n",
    "\n",
    "# Split the data into training and test sets\n",
    "X_train, X_test, y_train, y_test = train_test_split(X, y, test_size=0.2, random_state=42)"
   ],
   "metadata": {
    "collapsed": false
   }
  },
  {
   "cell_type": "markdown",
   "source": [
    "# Encode the categorical data:\n",
    "used to perform one-hot encoding on the 'Country' variable in a pandas DataFrame, which is a common technique for converting categorical data into a numerical format that can be used in machine learning. One-hot encoding works by creating new binary columns for each unique category in the original column. The OneHotEncoder class from the sklearn.preprocessing module is used to perform the one-hot encoding.\n",
    "\n",
    "The fit_transform method of the OneHotEncoder class is called with the 'Country' column of the X_train DataFrame as input to fit the one-hot encoder to the 'Country' column and create a one-hot encoded representation of it. This encoded column is stored in a new DataFrame called X_train_encoded.\n",
    "\n",
    "The transform method of the OneHotEncoder class is then called with the 'Country' column of the X_test DataFrame as input to create a one-hot encoded representation of it. This encoded column is stored in a new DataFrame called X_test_encoded.\n",
    "\n",
    "After performing these steps, the 'Country' column in both X_train_encoded and X_test_encoded will be replaced with their one-hot encoded versions, which allows them to be used as input features in a machine learning algorithm. One-hot encoding is necessary for machine learning algorithms that cannot work with categorical data directly, and it enables the data to be more easily interpreted and analyzed."
   ],
   "metadata": {
    "collapsed": false
   }
  },
  {
   "cell_type": "code",
   "execution_count": null,
   "outputs": [],
   "source": [
    "# Encode the 'Country' column using one-hot encoding.\n",
    "from sklearn.preprocessing import OneHotEncoder\n",
    "\n",
    "# Create the encoder\n",
    "encoder = OneHotEncoder(handle_unknown='ignore')\n",
    "X_train_encoded = encoder.fit_transform(X_train[['Country']])\n",
    "X_test_encoded = encoder.transform(X_test[['Country']])"
   ],
   "metadata": {
    "collapsed": false
   }
  },
  {
   "cell_type": "code",
   "execution_count": null,
   "outputs": [],
   "source": [
    "# Combine the encoded 'Country' column with the 'year' column\n",
    "import numpy as np\n",
    "\n",
    "# X_train_encoded.toarray() returns a numpy array with the one-hot encoded values\n",
    "# X_train['year'].values.reshape(-1, 1) returns a numpy array with the year values\n",
    "# np.hstack([X_train_encoded.toarray(), X_train['year'].values.reshape(-1, 1)]) returns a numpy array with the one-hot encoded values and the year values\n",
    "\n",
    "X_train_final = np.hstack([X_train_encoded.toarray(), X_train['year'].values.reshape(-1, 1)])\n",
    "X_test_final = np.hstack([X_test_encoded.toarray(), X_test['year'].values.reshape(-1, 1)])"
   ],
   "metadata": {
    "collapsed": false
   }
  },
  {
   "cell_type": "code",
   "execution_count": null,
   "outputs": [],
   "source": [
    "# Train a linear regression model\n",
    "\n",
    "from sklearn.linear_model import LinearRegression\n",
    "\n",
    "model = LinearRegression()\n",
    "model.fit(X_train_final, y_train)"
   ],
   "metadata": {
    "collapsed": false
   }
  }
 ],
 "metadata": {
  "kernelspec": {
   "display_name": "Python 3",
   "language": "python",
   "name": "python3"
  },
  "language_info": {
   "codemirror_mode": {
    "name": "ipython",
    "version": 2
   },
   "file_extension": ".py",
   "mimetype": "text/x-python",
   "name": "python",
   "nbconvert_exporter": "python",
   "pygments_lexer": "ipython2",
   "version": "2.7.6"
  }
 },
 "nbformat": 4,
 "nbformat_minor": 0
}
